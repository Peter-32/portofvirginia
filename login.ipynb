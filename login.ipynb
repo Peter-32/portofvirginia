{
 "cells": [
  {
   "cell_type": "code",
   "execution_count": 3,
   "metadata": {},
   "outputs": [
    {
     "ename": "ModuleNotFoundError",
     "evalue": "No module named 'Scrapy'",
     "output_type": "error",
     "traceback": [
      "\u001b[0;31m---------------------------------------------------------------------------\u001b[0m",
      "\u001b[0;31mModuleNotFoundError\u001b[0m                       Traceback (most recent call last)",
      "\u001b[0;32m<ipython-input-3-ad647b42aa56>\u001b[0m in \u001b[0;36m<module>\u001b[0;34m\u001b[0m\n\u001b[0;32m----> 1\u001b[0;31m \u001b[0;32mimport\u001b[0m \u001b[0mScrapy\u001b[0m\u001b[0;34m\u001b[0m\u001b[0m\n\u001b[0m",
      "\u001b[0;31mModuleNotFoundError\u001b[0m: No module named 'Scrapy'"
     ]
    }
   ],
   "source": [
    "import Scrapy"
   ]
  },
  {
   "cell_type": "code",
   "execution_count": 9,
   "metadata": {},
   "outputs": [
    {
     "name": "stdout",
     "output_type": "stream",
     "text": [
      "b'{\"redirect\":\"https://www.propassva.com/DTR/VITLandingPage.aspx\"}'\n"
     ]
    }
   ],
   "source": [
    "import requests\n",
    "from requests.auth import HTTPBasicAuth\n",
    "response = requests.get('http://propassva.portofvirginia.com/api/gate?startDateTime=2019-07-08T07:00:00.000Z&endDateTime=2019-07-20T07:00:00.000Z&licensePlate=un11316', auth=HTTPBasicAuth('petermyersdatascience', 'foxowl22'))\n",
    "print(response.content)\n"
   ]
  },
  {
   "cell_type": "code",
   "execution_count": 15,
   "metadata": {},
   "outputs": [],
   "source": [
    "session = requests.Session()\n",
    "session.auth = ('petermyersdatascience', 'foxowl22')\n",
    "\n",
    "auth = session.post('http://propassva.portofvirginia.com/api/gate?startDateTime=2019-07-08T07:00:00.000Z&endDateTime=2019-07-20T07:00:00.000Z&licensePlate=un11316')\n",
    "response = session.get('http://propassva.portofvirginia.com/api/gate?startDateTime=2019-07-08T07:00:00.000Z&endDateTime=2019-07-20T07:00:00.000Z&licensePlate=un11316',auth=('petermyersdatascience', 'foxowl22'))\n",
    "\n"
   ]
  },
  {
   "cell_type": "code",
   "execution_count": 16,
   "metadata": {},
   "outputs": [
    {
     "data": {
      "text/plain": [
       "b'{\"redirect\":\"https://www.propassva.com/DTR/VITLandingPage.aspx\"}'"
      ]
     },
     "execution_count": 16,
     "metadata": {},
     "output_type": "execute_result"
    }
   ],
   "source": [
    "response.content\n"
   ]
  },
  {
   "cell_type": "code",
   "execution_count": 42,
   "metadata": {},
   "outputs": [
    {
     "data": {
      "text/plain": [
       "b'{\"redirect\":\"https://www.propassva.com/DTR/VITLandingPage.aspx\"}'"
      ]
     },
     "execution_count": 42,
     "metadata": {},
     "output_type": "execute_result"
    }
   ],
   "source": [
    "payload = {'txtUserName': 'petermyersdatascience', 'txtPassword': 'foxowl22', 'PublicKeyToken': '31bf3856ad364e35:en-US:b7585254-495e-4311-9545-1f910247aca5:ea597d4b:b25378d2'}\n",
    "url = 'http://propassva.portofvirginia.com/api/gate?startDateTime=2019-07-08T07:00:00.000Z&endDateTime=2019-07-20T07:00:00.000Z&licensePlate=un11316'\n",
    "requests.get(url, data=payload).content\n",
    "\n"
   ]
  },
  {
   "cell_type": "code",
   "execution_count": 44,
   "metadata": {},
   "outputs": [],
   "source": [
    "payload = {'txtUserName': 'petermyersdatascience', 'txtPassword': 'foxowl22', 'rsm_TSM': ''}\n",
    "import requests\n",
    "from lxml import html\n",
    "session_requests = requests.session()\n",
    "login_url = \"https://www.propassva.com/Default.aspx\"\n",
    "result = session_requests.get(login_url)\n",
    "tree = html.fromstring(result.text)\n",
    "result.text\n",
    "authenticity_token = list(set(tree.xpath(\"//input[@name='rsm_TSM']/@value\")))[0]\n",
    "authenticity_token = \"31bf3856ad364e35:en-US:b7585254-495e-4311-9545-1f910247aca5:ea597d4b:b25378d2\"\n"
   ]
  },
  {
   "cell_type": "code",
   "execution_count": 45,
   "metadata": {},
   "outputs": [
    {
     "data": {
      "text/plain": [
       "b'{\"redirect\":\"https://www.propassva.com/DTR/VITLandingPage.aspx\"}'"
      ]
     },
     "execution_count": 45,
     "metadata": {},
     "output_type": "execute_result"
    }
   ],
   "source": [
    "result = session_requests.get(url, data=payload, headers=dict(referer=login_url))\n",
    "result.content"
   ]
  },
  {
   "cell_type": "code",
   "execution_count": 51,
   "metadata": {},
   "outputs": [
    {
     "data": {
      "text/plain": [
       "b'{\"redirect\":\"https://www.propassva.com/DTR/VITLandingPage.aspx\"}'"
      ]
     },
     "execution_count": 51,
     "metadata": {},
     "output_type": "execute_result"
    }
   ],
   "source": [
    "import requests\n",
    "from bs4 import BeautifulSoup\n",
    "\n",
    "username = 'petermyersdatascience'\n",
    "password = 'foxowl22'\n",
    "scrape_url = 'http://propassva.portofvirginia.com/api/gate?startDateTime=2019-07-08T07:00:00.000Z&endDateTime=2019-07-20T07:00:00.000Z&licensePlate=un11316'\n",
    "\n",
    "login_url = 'https://www.propassva.com'\n",
    "login_info = {'txtUserName': username,'txtPassword': password}\n",
    "\n",
    "#Start session.\n",
    "session = requests.session()\n",
    "\n",
    "#Login using your authentication information.\n",
    "session.get(url=login_url, data=login_info)\n",
    "\n",
    "#Request page you want to scrape.\n",
    "url = session.get(url=scrape_url)\n",
    "\n",
    "url.content\n",
    "# soup = BeautifulSoup(url.content, 'html.parser')\n",
    "\n",
    "# for link in soup.findAll('a'):\n",
    "#     print('\\nLink href: ' + link['href'])\n",
    "#     print('Link text: ' + link.text)"
   ]
  },
  {
   "cell_type": "code",
   "execution_count": 47,
   "metadata": {},
   "outputs": [
    {
     "data": {
      "text/plain": [
       "{\"redirect\":\"https://www.propassva.com/DTR/VITLandingPage.aspx\"}"
      ]
     },
     "execution_count": 47,
     "metadata": {},
     "output_type": "execute_result"
    }
   ],
   "source": [
    "soup"
   ]
  },
  {
   "cell_type": "code",
   "execution_count": null,
   "metadata": {},
   "outputs": [],
   "source": []
  }
 ],
 "metadata": {
  "kernelspec": {
   "display_name": "commons",
   "language": "python",
   "name": "commons"
  },
  "language_info": {
   "codemirror_mode": {
    "name": "ipython",
    "version": 3
   },
   "file_extension": ".py",
   "mimetype": "text/x-python",
   "name": "python",
   "nbconvert_exporter": "python",
   "pygments_lexer": "ipython3",
   "version": "3.6.5"
  },
  "toc": {
   "base_numbering": 1,
   "nav_menu": {},
   "number_sections": true,
   "sideBar": true,
   "skip_h1_title": false,
   "title_cell": "Table of Contents",
   "title_sidebar": "Contents",
   "toc_cell": false,
   "toc_position": {},
   "toc_section_display": true,
   "toc_window_display": false
  }
 },
 "nbformat": 4,
 "nbformat_minor": 2
}
