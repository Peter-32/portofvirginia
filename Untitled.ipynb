{
 "cells": [
  {
   "cell_type": "code",
   "execution_count": 2,
   "metadata": {},
   "outputs": [],
   "source": [
    "import pyautogui as g\n",
    "from time import sleep\n",
    "import pyperclip as clip\n",
    "import pandas as pd\n",
    "import numpy as np\n",
    "from sklearn.metrics import mean_squared_error\n",
    "from graphviz import Source\n",
    "from sklearn.tree import export_graphviz\n",
    "from sklearn import tree\n",
    "g.FAILSAFE = True\n",
    "sleep(2)\n",
    "g.size()\n",
    "g.position()\n",
    "\n",
    "def c():\n",
    "    g.mouseDown()\n",
    "    g.mouseUp()\n",
    "    \n",
    "def c2():\n",
    "    c()\n",
    "    c()\n",
    "\n",
    "def rc():\n",
    "    g.click(button='right')\n",
    "\n",
    "def select_all_and_copy():\n",
    "    rc()\n",
    "    g.keyDown('a')\n",
    "    g.keyUp('a')\n",
    "    g.keyDown('ctrl')\n",
    "    g.keyDown('c')\n",
    "    g.keyUp('c')\n",
    "    g.keyUp('ctrl')  \n",
    "    \n"
   ]
  },
  {
   "cell_type": "code",
   "execution_count": 4,
   "metadata": {},
   "outputs": [
    {
     "data": {
      "text/plain": [
       "(12, 632)"
      ]
     },
     "execution_count": 4,
     "metadata": {},
     "output_type": "execute_result"
    }
   ],
   "source": [
    "g.position()\n"
   ]
  },
  {
   "cell_type": "code",
   "execution_count": 14,
   "metadata": {},
   "outputs": [],
   "source": [
    "start_date = \"2019-07-01\"\n",
    "end_date = \"2019-07-20\"\n",
    "license_plate = \"UN11316\"\n",
    "\n",
    "for license_plate in license_plates:\n",
    "    g.moveTo(12, 632)\n",
    "    c()\n",
    "    g.keyDown('command')\n",
    "    g.keyDown('t')\n",
    "    g.keyUp('command')\n",
    "    g.keyUp('t')\n",
    "    sleep(0.3)\n",
    "    import pyperclip as clip\n",
    "    clip.copy(\"http://propassva.portofvirginia.com/api/gate?startDateTime={}T07:00:00.000Z&endDateTime={}T07:00:00.000Z&licensePlate={}\".\\\n",
    "                format(start_date, end_date, license_plate))\n",
    "    sleep(0.3)\n",
    "    g.keyDown('command')\n",
    "    g.keyDown('v')\n",
    "    g.keyUp('command')\n",
    "    g.keyUp('v')\n",
    "    sleep(0.1)\n",
    "    g.keyDown('enter')\n",
    "    g.keyUp('enter')\n",
    "    sleep(0.1)\n",
    "    c()\n",
    "    sleep(0.1)\n",
    "    g.keyDown('command')\n",
    "    g.keyDown('a')\n",
    "    g.keyUp('a')\n",
    "    sleep(0.05)\n",
    "    g.keyDown('c')\n",
    "    g.keyUp('c')\n",
    "    g.keyUp('command')\n"
   ]
  },
  {
   "cell_type": "code",
   "execution_count": null,
   "metadata": {},
   "outputs": [],
   "source": []
  }
 ],
 "metadata": {
  "kernelspec": {
   "display_name": "commons",
   "language": "python",
   "name": "commons"
  },
  "language_info": {
   "codemirror_mode": {
    "name": "ipython",
    "version": 3
   },
   "file_extension": ".py",
   "mimetype": "text/x-python",
   "name": "python",
   "nbconvert_exporter": "python",
   "pygments_lexer": "ipython3",
   "version": "3.6.5"
  },
  "toc": {
   "base_numbering": 1,
   "nav_menu": {},
   "number_sections": true,
   "sideBar": true,
   "skip_h1_title": false,
   "title_cell": "Table of Contents",
   "title_sidebar": "Contents",
   "toc_cell": false,
   "toc_position": {},
   "toc_section_display": true,
   "toc_window_display": false
  }
 },
 "nbformat": 4,
 "nbformat_minor": 2
}
