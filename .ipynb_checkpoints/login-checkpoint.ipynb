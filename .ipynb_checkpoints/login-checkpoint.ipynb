{
 "cells": [
  {
   "cell_type": "code",
   "execution_count": 3,
   "metadata": {},
   "outputs": [
    {
     "ename": "ModuleNotFoundError",
     "evalue": "No module named 'Scrapy'",
     "output_type": "error",
     "traceback": [
      "\u001b[0;31m---------------------------------------------------------------------------\u001b[0m",
      "\u001b[0;31mModuleNotFoundError\u001b[0m                       Traceback (most recent call last)",
      "\u001b[0;32m<ipython-input-3-ad647b42aa56>\u001b[0m in \u001b[0;36m<module>\u001b[0;34m\u001b[0m\n\u001b[0;32m----> 1\u001b[0;31m \u001b[0;32mimport\u001b[0m \u001b[0mScrapy\u001b[0m\u001b[0;34m\u001b[0m\u001b[0m\n\u001b[0m",
      "\u001b[0;31mModuleNotFoundError\u001b[0m: No module named 'Scrapy'"
     ]
    }
   ],
   "source": [
    "import Scrapy"
   ]
  },
  {
   "cell_type": "code",
   "execution_count": 9,
   "metadata": {},
   "outputs": [
    {
     "name": "stdout",
     "output_type": "stream",
     "text": [
      "b'{\"redirect\":\"https://www.propassva.com/DTR/VITLandingPage.aspx\"}'\n"
     ]
    }
   ],
   "source": [
    "import requests\n",
    "from requests.auth import HTTPBasicAuth\n",
    "response = requests.get('http://propassva.portofvirginia.com/api/gate?startDateTime=2019-07-08T07:00:00.000Z&endDateTime=2019-07-20T07:00:00.000Z&licensePlate=un11316', auth=HTTPBasicAuth('petermyersdatascience', 'foxowl22'))\n",
    "print(response.content)\n"
   ]
  },
  {
   "cell_type": "code",
   "execution_count": 15,
   "metadata": {},
   "outputs": [],
   "source": [
    "session = requests.Session()\n",
    "session.auth = ('petermyersdatascience', 'foxowl22')\n",
    "\n",
    "auth = session.post('http://propassva.portofvirginia.com/api/gate?startDateTime=2019-07-08T07:00:00.000Z&endDateTime=2019-07-20T07:00:00.000Z&licensePlate=un11316')\n",
    "response = session.get('http://propassva.portofvirginia.com/api/gate?startDateTime=2019-07-08T07:00:00.000Z&endDateTime=2019-07-20T07:00:00.000Z&licensePlate=un11316',auth=('petermyersdatascience', 'foxowl22'))\n",
    "\n"
   ]
  },
  {
   "cell_type": "code",
   "execution_count": 16,
   "metadata": {},
   "outputs": [
    {
     "data": {
      "text/plain": [
       "b'{\"redirect\":\"https://www.propassva.com/DTR/VITLandingPage.aspx\"}'"
      ]
     },
     "execution_count": 16,
     "metadata": {},
     "output_type": "execute_result"
    }
   ],
   "source": [
    "response.content\n"
   ]
  },
  {
   "cell_type": "code",
   "execution_count": 23,
   "metadata": {},
   "outputs": [
    {
     "data": {
      "text/plain": [
       "b'{\"redirect\":\"https://www.propassva.com/DTR/VITLandingPage.aspx\"}'"
      ]
     },
     "execution_count": 23,
     "metadata": {},
     "output_type": "execute_result"
    }
   ],
   "source": [
    "payload = {'txtUserName': 'petermyersdatascience', 'txtPassword': 'foxowl22', 'rsm_TSM': ''}\n",
    "url = 'http://propassva.portofvirginia.com/api/gate?startDateTime=2019-07-08T07:00:00.000Z&endDateTime=2019-07-20T07:00:00.000Z&licensePlate=un11316'\n",
    "requests.get(url, data=payload).content\n",
    "\n"
   ]
  },
  {
   "cell_type": "code",
   "execution_count": 32,
   "metadata": {},
   "outputs": [
    {
     "data": {
      "text/plain": [
       "'\\n<html>\\n<head>\\n  <title>OpenID transaction in progress</title>\\n</head>\\n<body onload=\"document.forms[0].submit();\">\\n<form id=\"openid_message\" action=\"https://id.atlassian.com/openid/v2/op\" method=\"post\" accept-charset=\"UTF-8\" enctype=\"application/x-www-form-urlencoded\"><input name=\"openid.ns.crowdid\" type=\"hidden\" value=\"https://developer.atlassian.com/display/CROWDDEV/CrowdID+OpenID+extensions#CrowdIDOpenIDextensions-login-page-parameters\"/><input name=\"openid.return_to\" type=\"hidden\" value=\"https://bitbucket.org/socialauth/complete/atlassianid/?janrain_nonce=2019-07-20T07%3A30%3A57ZBFvnrp\"/><input name=\"openid.realm\" type=\"hidden\" value=\"https://bitbucket.org\"/><input name=\"openid.ns\" type=\"hidden\" value=\"http://specs.openid.net/auth/2.0\"/><input name=\"openid.sreg.optional\" type=\"hidden\" value=\"fullname,nickname,email\"/><input name=\"openid.claimed_id\" type=\"hidden\" value=\"http://specs.openid.net/auth/2.0/identifier_select\"/><input name=\"openid.ns.sreg\" type=\"hidden\" value=\"http://openid.net/extensions/sreg/1.1\"/><input name=\"openid.crowdid.application\" type=\"hidden\" value=\"bitbucket\"/><input name=\"openid.assoc_handle\" type=\"hidden\" value=\"21339329\"/><input name=\"openid.mode\" type=\"hidden\" value=\"checkid_setup\"/><input name=\"openid.identity\" type=\"hidden\" value=\"http://specs.openid.net/auth/2.0/identifier_select\"/><input type=\"submit\" value=\"Continue\"/></form>\\n<script>\\nvar elements = document.forms[0].elements;\\nfor (var i = 0; i < elements.length; i++) {\\n  elements[i].style.display = \"none\";\\n}\\n</script>\\n</body>\\n</html>\\n'"
      ]
     },
     "execution_count": 32,
     "metadata": {},
     "output_type": "execute_result"
    }
   ],
   "source": [
    "payload = {'txtUserName': 'petermyersdatascience', 'txtPassword': 'foxowl22', 'rsm_TSM': ''}\n",
    "import requests\n",
    "from lxml import html\n",
    "session_requests = requests.session()\n",
    "login_url = \"https://bitbucket.org/account/signin/?next=/\"\n",
    "result = session_requests.get(login_url)\n",
    "tree = html.fromstring(result.text)\n",
    "result.text\n",
    "# authenticity_token = list(set(tree.xpath(\"//input[@name='csrfmiddlewaretoken']/@value\")))[0]\n"
   ]
  },
  {
   "cell_type": "code",
   "execution_count": null,
   "metadata": {},
   "outputs": [],
   "source": []
  }
 ],
 "metadata": {
  "kernelspec": {
   "display_name": "commons",
   "language": "python",
   "name": "commons"
  },
  "language_info": {
   "codemirror_mode": {
    "name": "ipython",
    "version": 3
   },
   "file_extension": ".py",
   "mimetype": "text/x-python",
   "name": "python",
   "nbconvert_exporter": "python",
   "pygments_lexer": "ipython3",
   "version": "3.6.5"
  },
  "toc": {
   "base_numbering": 1,
   "nav_menu": {},
   "number_sections": true,
   "sideBar": true,
   "skip_h1_title": false,
   "title_cell": "Table of Contents",
   "title_sidebar": "Contents",
   "toc_cell": false,
   "toc_position": {},
   "toc_section_display": true,
   "toc_window_display": false
  }
 },
 "nbformat": 4,
 "nbformat_minor": 2
}
